# Import packages and classes
import pandas as pd
import numpy as np
import matplotlib.pyplot as plt
from sklearn.linear_model import LinearRegression
from sklearn.model_selection import train_test_split
%matplotlib inline

# Read the IceCreamData.csv file
IceCream=pd.read_csv('IceCreamData.csv')
print(IceCream)

 Temperature     Revenue
0      24.566884  534.799028
1      26.005191  625.190122
2      27.790554  660.632289
3      20.595335  487.706960
4      11.503498  316.240194
..           ...         ...
495    22.274899  524.746364
496    32.893092  755.818399
497    12.588157  306.090719
498    22.362402  566.217304
499    28.957736  655.660388

[500 rows x 2 columns]

# Print first 5 data
IceCream.head()

Temperature	Revenue
0	24.566884	534.799028
1	26.005191	625.190122
2	27.790554	660.632289
3	20.595335	487.706960
4	11.503498	316.240194

# Print last 5 data

IceCream.tail()
Temperature	Revenue
495	22.274899	524.746364
496	32.893092	755.818399
497	12.588157	306.090719
498	22.362402	566.217304
499	28.957736	655.660388

IceCream.tail()
Temperature	Revenue
495	22.274899	524.746364
496	32.893092	755.818399
497	12.588157	306.090719
498	22.362402	566.217304
499	28.957736	655.660388


# Print mathematical description
IceCream.describe()
Temperature	Revenue
count	500.000000	500.000000
mean	22.232225	521.570777
std	8.096388	175.404751
min	0.000000	10.000000
25%	17.122258	405.558681
50%	22.392791	529.368565
75%	27.740674	642.257922
max	45.000000	1000.000000

# Print information of Dataset
IceCream.info()
<class 'pandas.core.frame.DataFrame'>
RangeIndex: 500 entries, 0 to 499
Data columns (total 2 columns):
 #   Column       Non-Null Count  Dtype  
---  ------       --------------  -----  
 0   Temperature  500 non-null    float64
 1   Revenue      500 non-null    float64
dtypes: float64(2)
memory usage: 7.9 KB

# Divide the data into “Attributes” and “labels”
X = IceCream[['Temperature']]
y = IceCream['Revenue']

# Split 80% of the data to the training set while 20% of the data to test set

X_train, X_test, y_train, y_test = train_test_split(X, y, test_size=0.2, random_state=0)

# Create a Linear Regression model and fit it
regressor =LinearRegression(fit_intercept=True)
regressor.fit(X_train,y_train)

LinearRegression()

# Getting Results
print('Linear Model Coeff (m) =' , regressor.coef_)
print('Linear Model Coeff (b) =' , regressor.intercept_)
Linear Model Coeff (m) = [21.5133908]
Linear Model Coeff (b) = 43.73357869209292

# Predicting the data
y_predict=regressor.predict(X_test)
print(y_predict)
[698.3385558  653.32331149 664.73027451 450.5192845  665.47469743
 441.36861407 584.06540609 623.82532723 667.48717467 468.72433832
 546.82733151 443.41191785 622.95162777 377.64639971 367.0607334
 945.67057977 893.79551974 694.45445099 546.05047608 420.58523672
 391.08500303 597.0141581  283.23582775 655.50055011 380.98796154
 412.31810124 371.05055651 510.23910289 479.70270426 456.68206658
 640.1157508  281.65224383 314.1894674  470.01363777 559.72453055
 539.75091165 307.72368191 508.65180339 571.43237276 732.25599161
 440.44010989 494.39422767 567.56536766 443.94181482 914.46632525
 603.19341879 541.83315574 199.94980451 694.04258508 351.09960842
 189.49123987 576.80689646 216.55393778 468.15141951 461.80905978
 448.43970076 494.89418532 801.3758273  331.24527072 540.42751209
 661.1953557  526.66690494 360.66507037 451.46656256 621.57729407
 254.83395119 290.1749214  525.5900171  656.68802152 663.1062835
 740.96627734 184.48524774 593.42653041 148.41501952 485.97744998
 611.03624804 664.50658946 473.51664017 785.34682628 422.11909846
 169.76879503 820.72328003 434.39990573 325.82688811 660.07484042
 586.46853445 415.89811147 651.95510136 865.22669518 265.88922879
 577.32110608  43.73357869 901.24435059 621.87554173 759.07316169
 465.78060018 758.74558525 711.30125473 394.45680968 559.53716333]
 
 
 # Scatter plot on Training Data
plt.scatter(X_train,y_train,color='blue')
plt.plot(X_train,regressor.predict(X_train),color='red')
plt.ylabel('Revenue [$]')
plt.xlabel('Temperatur [degC]')
plt.title('Revenue Generated vs. Temperature @Ice Cream Stand (Training)')
Text(0.5, 1.0, 'Revenue Generated vs. Temperature @Ice Cream Stand (Training)')

# Scatter plot on Testing Data
plt.scatter(X_test,y_test,color='blue')
plt.plot(X_test,regressor.predict(X_test),color='red')
plt.ylabel('Revenue [$]')
plt.xlabel('Temperatur [degC]')
plt.title('Revenue Generated vs. Temperature @Ice Cream Stand (Training)')

# Prediction the revenve using Temperature Value directly
print('---------0---------')
Temp = -0
Revenue = regressor.predict([[Temp]])
print(Revenue)
print('--------35----------')
Temp = 35
Revenue = regressor.predict([[Temp]])
print(Revenue)
print('--------55----------')
Temp = 55
Revenue = regressor.predict([[Temp]])
print(Revenue)
---------0---------
[43.73357869]
--------35----------
[796.70225678]
--------55----------
[1226.97007282]


